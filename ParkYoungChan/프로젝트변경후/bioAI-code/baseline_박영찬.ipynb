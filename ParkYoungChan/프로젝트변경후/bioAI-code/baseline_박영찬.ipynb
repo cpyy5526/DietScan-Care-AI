{
 "cells": [
  {
   "cell_type": "markdown",
   "metadata": {
    "id": "YDfMEUed6t-x"
   },
   "source": [
    "# 데이터 임포트"
   ]
  },
  {
   "cell_type": "code",
   "execution_count": 267,
   "metadata": {
    "colab": {
     "base_uri": "https://localhost:8080/"
    },
    "id": "NFcLlgPu5jTA",
    "outputId": "fd4a4058-d1df-427e-fd88-8aa9329ba44f"
   },
   "outputs": [
    {
     "name": "stdout",
     "output_type": "stream",
     "text": [
      "mkdir: cannot create directory ‘data’: File exists\n",
      "unzip:  cannot find or open /content/drive/MyDrive/projects/oden_anomalydetection/wando_sample.zip, /content/drive/MyDrive/projects/oden_anomalydetection/wando_sample.zip.zip or /content/drive/MyDrive/projects/oden_anomalydetection/wando_sample.zip.ZIP.\n"
     ]
    }
   ],
   "source": [
    "! mkdir data\n",
    "! unzip /content/drive/MyDrive/projects/oden_anomalydetection/wando_sample.zip -d data"
   ]
  },
  {
   "cell_type": "code",
   "execution_count": 290,
   "metadata": {
    "id": "FPZeGqse7fkw"
   },
   "outputs": [],
   "source": [
    "import pandas as pd\n",
    "import ast"
   ]
  },
  {
   "cell_type": "code",
   "execution_count": null,
   "metadata": {
    "id": "S4S9q4qQ7XZj"
   },
   "outputs": [],
   "source": [
    "df1 = pd.read_excel(\"/home/youngchan/Documents/design1/data/wando01(8-21~9-14).xlsx\")\n",
    "df2 = pd.read_excel(\"/home/youngchan/Documents/design1/data/wando2(10-8~10-11).xlsx\")\n",
    "\n",
    "# df2 = pd.read_excel(\"data/wando2_oxygen(8.15~9.15).xlsx\")\n",
    "# df3 = pd.read_excel(\"data/wando2_oxygen(9.15~10.14).xlsx\")"
   ]
  },
  {
   "cell_type": "code",
   "execution_count": null,
   "metadata": {
    "id": "_KsYA6ee7myj"
   },
   "outputs": [],
   "source": [
    "# df = pd.concat([df1, df2, df3]).reset_index(drop=True)"
   ]
  },
  {
   "cell_type": "code",
   "execution_count": null,
   "metadata": {
    "colab": {
     "base_uri": "https://localhost:8080/",
     "height": 429
    },
    "id": "DCVrJ_dJ8JPy",
    "outputId": "019cad74-9dfd-425c-c0c5-f526070fd963"
   },
   "outputs": [
    {
     "data": {
      "text/plain": [
       "device_id        0\n",
       "device_type      0\n",
       "measure_time     0\n",
       "serial_number    0\n",
       "coordinates      0\n",
       "temperature      0\n",
       "oxygen_mpl       0\n",
       "oxygen_per       0\n",
       "oxygen_ppm       0\n",
       "timestamp        0\n",
       "date_time        0\n",
       "dtype: int64"
      ]
     },
     "execution_count": 293,
     "metadata": {},
     "output_type": "execute_result"
    }
   ],
   "source": [
    "df1.isnull().sum()\n",
    "df2.isnull().sum()"
   ]
  },
  {
   "cell_type": "code",
   "execution_count": null,
   "metadata": {
    "colab": {
     "base_uri": "https://localhost:8080/"
    },
    "id": "8FuWEGKw8PaU",
    "outputId": "a6780424-7494-4252-b054-689aa47e8f20"
   },
   "outputs": [
    {
     "data": {
      "text/plain": [
       "0"
      ]
     },
     "execution_count": 294,
     "metadata": {},
     "output_type": "execute_result"
    }
   ],
   "source": [
    "df1.duplicated().sum()\n",
    "df2.duplicated().sum()"
   ]
  },
  {
   "cell_type": "markdown",
   "metadata": {
    "id": "RHD8zl48_s47"
   },
   "source": [
    "# 데이터 전처리 및 EDA"
   ]
  },
  {
   "cell_type": "code",
   "execution_count": 295,
   "metadata": {
    "id": "40rU0vdGDmln"
   },
   "outputs": [],
   "source": [
    "import matplotlib.pyplot as plt"
   ]
  },
  {
   "cell_type": "code",
   "execution_count": 296,
   "metadata": {
    "id": "mV9cOj9p9JcV"
   },
   "outputs": [],
   "source": [
    "df1 = df1[['device_id', 'date_time', 'temperature', 'oxygen_ppm']]\n",
    "df2 = df2[['device_id', 'date_time', 'temperature', 'oxygen_ppm']]"
   ]
  },
  {
   "cell_type": "code",
   "execution_count": 297,
   "metadata": {
    "colab": {
     "base_uri": "https://localhost:8080/"
    },
    "id": "024A3BHW86En",
    "outputId": "d11d4fb6-c100-46c0-a516-22958c8d3f31"
   },
   "outputs": [],
   "source": [
    "df1['date_time'] = pd.to_datetime(df1['date_time'])\n",
    "df2['date_time'] = pd.to_datetime(df2['date_time'])"
   ]
  },
  {
   "cell_type": "code",
   "execution_count": 298,
   "metadata": {
    "id": "mn7m6_Ii9CKj"
   },
   "outputs": [],
   "source": [
    "col_li = ['temperature', 'oxygen_ppm']"
   ]
  },
  {
   "cell_type": "code",
   "execution_count": 300,
   "metadata": {
    "id": "GuqOAl498SZl"
   },
   "outputs": [],
   "source": [
    "for col in col_li:\n",
    "  # df1[col] = df1[col].apply(ast.literal_eval)\n",
    "  # df1[col] = df1[col].apply(lambda x: x['value'])\n",
    "  df2[col] = df2[col].apply(ast.literal_eval)\n",
    "  df2[col] = df2[col].apply(lambda x: x['value'])"
   ]
  },
  {
   "cell_type": "code",
   "execution_count": 301,
   "metadata": {
    "colab": {
     "base_uri": "https://localhost:8080/",
     "height": 458
    },
    "id": "PWF-_adgBHjU",
    "outputId": "e3e0a8f7-4e3e-443f-db1a-25fc36ab1173"
   },
   "outputs": [
    {
     "data": {
      "text/plain": [
       "0      2024-10-11 23:59:30\n",
       "1      2024-10-11 23:58:25\n",
       "2      2024-10-11 23:57:21\n",
       "3      2024-10-11 23:56:17\n",
       "4      2024-10-11 23:53:04\n",
       "               ...        \n",
       "5259   2024-10-08 00:05:20\n",
       "5260   2024-10-08 00:04:16\n",
       "5261   2024-10-08 00:03:12\n",
       "5262   2024-10-08 00:02:08\n",
       "5263   2024-10-08 00:01:03\n",
       "Name: date_time, Length: 5264, dtype: datetime64[ns]"
      ]
     },
     "execution_count": 301,
     "metadata": {},
     "output_type": "execute_result"
    }
   ],
   "source": [
    "pd.to_datetime(df1['date_time'])\n",
    "pd.to_datetime(df2['date_time'])"
   ]
  },
  {
   "cell_type": "code",
   "execution_count": 302,
   "metadata": {
    "id": "87HMkmAj_cv1"
   },
   "outputs": [],
   "source": [
    "abnormal_df = df2.reset_index(drop=True)\n",
    "normal_df = df1.reset_index(drop=True)"
   ]
  },
  {
   "cell_type": "code",
   "execution_count": 303,
   "metadata": {
    "id": "rlzkDomYK84z"
   },
   "outputs": [],
   "source": [
    "abnormal_df.set_index('date_time', inplace=True)\n",
    "abnormal_df['temperature'] = abnormal_df['temperature'].astype(float)\n",
    "abnormal_df['oxygen_ppm'] = abnormal_df['oxygen_ppm'].astype(float)\n",
    "\n",
    "# 2분 단위로 리샘플링 (평균값을 계산)\n",
    "abnormal_df = abnormal_df.resample('2min').ffill().reset_index()\n",
    "abnormal_df = abnormal_df.dropna()\n",
    "\n",
    "normal_df.set_index('date_time', inplace=True)\n",
    "# normal_df['temperature'] = normal_df['temperature'].astype(float)\n",
    "# normal_df['oxygen_ppm'] = normal_df['oxygen_ppm'].astype(float)\n",
    "\n",
    "# 2분 단위로 리샘플링 (평균값을 계산)\n",
    "normal_df = normal_df.resample('2min').ffill().reset_index()\n",
    "normal_df = normal_df.dropna()"
   ]
  },
  {
   "cell_type": "code",
   "execution_count": 304,
   "metadata": {
    "colab": {
     "base_uri": "https://localhost:8080/"
    },
    "id": "9J4RG4bFAWsT",
    "outputId": "940f3546-1da1-4d55-c1e0-0fab618fb78c"
   },
   "outputs": [
    {
     "name": "stdout",
     "output_type": "stream",
     "text": [
      "0.8406302115917206\n",
      "1.3711754083633425\n",
      "1.7078164696693419\n",
      "2.1324891328811644\n",
      "2.611859083175659\n",
      "3.0912118434906004\n",
      "3.423110008239746\n"
     ]
    }
   ],
   "source": [
    "print(normal_df['oxygen_ppm'].quantile(0.001))\n",
    "print(normal_df['oxygen_ppm'].quantile(0.01))\n",
    "print(normal_df['oxygen_ppm'].quantile(0.025))\n",
    "print(normal_df['oxygen_ppm'].quantile(0.05))\n",
    "print(normal_df['oxygen_ppm'].quantile(0.1))\n",
    "print(normal_df['oxygen_ppm'].quantile(0.2))\n",
    "print(normal_df['oxygen_ppm'].quantile(0.3))"
   ]
  },
  {
   "cell_type": "code",
   "execution_count": 305,
   "metadata": {
    "colab": {
     "base_uri": "https://localhost:8080/"
    },
    "id": "mS7vSLSLBmKc",
    "outputId": "64f4d57a-1ecc-4973-ce21-b1c11390a521"
   },
   "outputs": [
    {
     "name": "stdout",
     "output_type": "stream",
     "text": [
      "6.124280166625977\n",
      "6.254892468452454\n",
      "6.389222288131714\n",
      "6.552041554450989\n",
      "6.620785713195801\n",
      "6.731968212127685\n",
      "6.90379114151001\n",
      "7.029090213775635\n",
      "7.121846723556518\n"
     ]
    }
   ],
   "source": [
    "print(abnormal_df['oxygen_ppm'].quantile(0.1))\n",
    "print(abnormal_df['oxygen_ppm'].quantile(0.125))\n",
    "print(abnormal_df['oxygen_ppm'].quantile(0.15))\n",
    "print(abnormal_df['oxygen_ppm'].quantile(0.175))\n",
    "print(abnormal_df['oxygen_ppm'].quantile(0.2))\n",
    "print(abnormal_df['oxygen_ppm'].quantile(0.3))\n",
    "print(abnormal_df['oxygen_ppm'].quantile(0.7))\n",
    "print(abnormal_df['oxygen_ppm'].quantile(0.9))\n",
    "print(abnormal_df['oxygen_ppm'].quantile(0.95))"
   ]
  },
  {
   "cell_type": "code",
   "execution_count": 306,
   "metadata": {
    "colab": {
     "base_uri": "https://localhost:8080/",
     "height": 300
    },
    "id": "fc2-1dF6DSqo",
    "outputId": "0a149e8d-397f-434f-880d-0c94f594571c"
   },
   "outputs": [
    {
     "data": {
      "text/html": [
       "<div>\n",
       "<style scoped>\n",
       "    .dataframe tbody tr th:only-of-type {\n",
       "        vertical-align: middle;\n",
       "    }\n",
       "\n",
       "    .dataframe tbody tr th {\n",
       "        vertical-align: top;\n",
       "    }\n",
       "\n",
       "    .dataframe thead th {\n",
       "        text-align: right;\n",
       "    }\n",
       "</style>\n",
       "<table border=\"1\" class=\"dataframe\">\n",
       "  <thead>\n",
       "    <tr style=\"text-align: right;\">\n",
       "      <th></th>\n",
       "      <th>date_time</th>\n",
       "      <th>temperature</th>\n",
       "      <th>oxygen_ppm</th>\n",
       "    </tr>\n",
       "  </thead>\n",
       "  <tbody>\n",
       "    <tr>\n",
       "      <th>count</th>\n",
       "      <td>17999</td>\n",
       "      <td>17999.000000</td>\n",
       "      <td>17999.000000</td>\n",
       "    </tr>\n",
       "    <tr>\n",
       "      <th>mean</th>\n",
       "      <td>2024-09-02 12:00:00</td>\n",
       "      <td>27.594372</td>\n",
       "      <td>3.687466</td>\n",
       "    </tr>\n",
       "    <tr>\n",
       "      <th>min</th>\n",
       "      <td>2024-08-21 00:02:00</td>\n",
       "      <td>25.736675</td>\n",
       "      <td>0.381487</td>\n",
       "    </tr>\n",
       "    <tr>\n",
       "      <th>25%</th>\n",
       "      <td>2024-08-27 06:01:00</td>\n",
       "      <td>27.026291</td>\n",
       "      <td>3.264778</td>\n",
       "    </tr>\n",
       "    <tr>\n",
       "      <th>50%</th>\n",
       "      <td>2024-09-02 12:00:00</td>\n",
       "      <td>27.730555</td>\n",
       "      <td>3.895073</td>\n",
       "    </tr>\n",
       "    <tr>\n",
       "      <th>75%</th>\n",
       "      <td>2024-09-08 17:59:00</td>\n",
       "      <td>28.070025</td>\n",
       "      <td>4.238256</td>\n",
       "    </tr>\n",
       "    <tr>\n",
       "      <th>max</th>\n",
       "      <td>2024-09-14 23:58:00</td>\n",
       "      <td>30.058685</td>\n",
       "      <td>5.160896</td>\n",
       "    </tr>\n",
       "    <tr>\n",
       "      <th>std</th>\n",
       "      <td>NaN</td>\n",
       "      <td>0.733670</td>\n",
       "      <td>0.770573</td>\n",
       "    </tr>\n",
       "  </tbody>\n",
       "</table>\n",
       "</div>"
      ],
      "text/plain": [
       "                 date_time   temperature    oxygen_ppm\n",
       "count                17999  17999.000000  17999.000000\n",
       "mean   2024-09-02 12:00:00     27.594372      3.687466\n",
       "min    2024-08-21 00:02:00     25.736675      0.381487\n",
       "25%    2024-08-27 06:01:00     27.026291      3.264778\n",
       "50%    2024-09-02 12:00:00     27.730555      3.895073\n",
       "75%    2024-09-08 17:59:00     28.070025      4.238256\n",
       "max    2024-09-14 23:58:00     30.058685      5.160896\n",
       "std                    NaN      0.733670      0.770573"
      ]
     },
     "execution_count": 306,
     "metadata": {},
     "output_type": "execute_result"
    }
   ],
   "source": [
    "normal_df.describe()"
   ]
  },
  {
   "cell_type": "code",
   "execution_count": 307,
   "metadata": {
    "colab": {
     "base_uri": "https://localhost:8080/",
     "height": 300
    },
    "id": "kvFCQuKmDdOz",
    "outputId": "0fc3cc9b-39e9-48c8-ef12-ead5bb7a014f"
   },
   "outputs": [
    {
     "data": {
      "text/html": [
       "<div>\n",
       "<style scoped>\n",
       "    .dataframe tbody tr th:only-of-type {\n",
       "        vertical-align: middle;\n",
       "    }\n",
       "\n",
       "    .dataframe tbody tr th {\n",
       "        vertical-align: top;\n",
       "    }\n",
       "\n",
       "    .dataframe thead th {\n",
       "        text-align: right;\n",
       "    }\n",
       "</style>\n",
       "<table border=\"1\" class=\"dataframe\">\n",
       "  <thead>\n",
       "    <tr style=\"text-align: right;\">\n",
       "      <th></th>\n",
       "      <th>date_time</th>\n",
       "      <th>temperature</th>\n",
       "      <th>oxygen_ppm</th>\n",
       "    </tr>\n",
       "  </thead>\n",
       "  <tbody>\n",
       "    <tr>\n",
       "      <th>count</th>\n",
       "      <td>2879</td>\n",
       "      <td>2879.000000</td>\n",
       "      <td>2879.000000</td>\n",
       "    </tr>\n",
       "    <tr>\n",
       "      <th>mean</th>\n",
       "      <td>2024-10-10 00:00:00.000000256</td>\n",
       "      <td>23.561814</td>\n",
       "      <td>6.666003</td>\n",
       "    </tr>\n",
       "    <tr>\n",
       "      <th>min</th>\n",
       "      <td>2024-10-08 00:02:00</td>\n",
       "      <td>22.898256</td>\n",
       "      <td>4.294001</td>\n",
       "    </tr>\n",
       "    <tr>\n",
       "      <th>25%</th>\n",
       "      <td>2024-10-09 00:01:00</td>\n",
       "      <td>23.333590</td>\n",
       "      <td>6.676414</td>\n",
       "    </tr>\n",
       "    <tr>\n",
       "      <th>50%</th>\n",
       "      <td>2024-10-10 00:00:00</td>\n",
       "      <td>23.628092</td>\n",
       "      <td>6.834730</td>\n",
       "    </tr>\n",
       "    <tr>\n",
       "      <th>75%</th>\n",
       "      <td>2024-10-10 23:59:00</td>\n",
       "      <td>23.748614</td>\n",
       "      <td>6.924245</td>\n",
       "    </tr>\n",
       "    <tr>\n",
       "      <th>max</th>\n",
       "      <td>2024-10-11 23:58:00</td>\n",
       "      <td>24.153313</td>\n",
       "      <td>7.245897</td>\n",
       "    </tr>\n",
       "    <tr>\n",
       "      <th>std</th>\n",
       "      <td>NaN</td>\n",
       "      <td>0.279590</td>\n",
       "      <td>0.538467</td>\n",
       "    </tr>\n",
       "  </tbody>\n",
       "</table>\n",
       "</div>"
      ],
      "text/plain": [
       "                           date_time  temperature   oxygen_ppm\n",
       "count                           2879  2879.000000  2879.000000\n",
       "mean   2024-10-10 00:00:00.000000256    23.561814     6.666003\n",
       "min              2024-10-08 00:02:00    22.898256     4.294001\n",
       "25%              2024-10-09 00:01:00    23.333590     6.676414\n",
       "50%              2024-10-10 00:00:00    23.628092     6.834730\n",
       "75%              2024-10-10 23:59:00    23.748614     6.924245\n",
       "max              2024-10-11 23:58:00    24.153313     7.245897\n",
       "std                              NaN     0.279590     0.538467"
      ]
     },
     "execution_count": 307,
     "metadata": {},
     "output_type": "execute_result"
    }
   ],
   "source": [
    "abnormal_df.describe()"
   ]
  },
  {
   "cell_type": "code",
   "execution_count": 308,
   "metadata": {
    "colab": {
     "base_uri": "https://localhost:8080/",
     "height": 487
    },
    "id": "ehIJ-fF_98UD",
    "outputId": "2c616aa3-7983-44ad-af0b-5a324a92ae69"
   },
   "outputs": [
    {
     "data": {
      "image/png": "[encoded data removed]",
      "text/plain": [
       "<Figure size 640x480 with 1 Axes>"
      ]
     },
     "metadata": {},
     "output_type": "display_data"
    }
   ],
   "source": [
    "# 그래프 그리기\n",
    "target = 'oxygen_ppm'\n",
    "plt.plot(normal_df['date_time'], normal_df[target], marker='.', color='green', markersize=2)\n",
    "plt.plot(abnormal_df['date_time'], abnormal_df[target], marker='.', color='red', markersize=2)\n",
    "plt.title(f'{target} over Time')\n",
    "plt.xlabel('Date')\n",
    "plt.ylabel('Value')\n",
    "plt.grid(True)\n",
    "plt.xticks(rotation=45)  # x축 라벨 회전\n",
    "plt.tight_layout()  # 레이아웃 조정\n",
    "plt.show()"
   ]
  },
  {
   "cell_type": "markdown",
   "metadata": {
    "id": "TQyJdYN6GVhu"
   },
   "source": [
    "oxygen ppm이 3이하가 지속될 경우 용존산소 센서 이상일 가능성이 매우 높다.\n",
    "\n",
    "그리고 센서 이상이 생길 시 용존산소에 급격한 변화를 보이는 것으로 추정되는데,\n",
    "\n",
    "wando2(normal_df)의 경우에도 10월 10일 이후 센서의 이상이 확인된다."
   ]
  },
  {
   "cell_type": "code",
   "execution_count": 237,
   "metadata": {
    "id": "W8kXv7QTAQtO"
   },
   "outputs": [],
   "source": [
    "#normal_df2 = normal_df[normal_df['date_time']<='2024-10-13']\n",
    "normal_df2 = normal_df.copy()"
   ]
  },
  {
   "cell_type": "code",
   "execution_count": 238,
   "metadata": {
    "colab": {
     "base_uri": "https://localhost:8080/",
     "height": 423
    },
    "id": "fQ8gAm8xEnDH",
    "outputId": "1dda3c23-0616-4386-afd4-29bd70eed189"
   },
   "outputs": [
    {
     "data": {
      "text/html": [
       "<div>\n",
       "<style scoped>\n",
       "    .dataframe tbody tr th:only-of-type {\n",
       "        vertical-align: middle;\n",
       "    }\n",
       "\n",
       "    .dataframe tbody tr th {\n",
       "        vertical-align: top;\n",
       "    }\n",
       "\n",
       "    .dataframe thead th {\n",
       "        text-align: right;\n",
       "    }\n",
       "</style>\n",
       "<table border=\"1\" class=\"dataframe\">\n",
       "  <thead>\n",
       "    <tr style=\"text-align: right;\">\n",
       "      <th></th>\n",
       "      <th>date_time</th>\n",
       "      <th>device_id</th>\n",
       "      <th>temperature</th>\n",
       "      <th>oxygen_ppm</th>\n",
       "    </tr>\n",
       "  </thead>\n",
       "  <tbody>\n",
       "    <tr>\n",
       "      <th>1</th>\n",
       "      <td>2024-09-14 00:02:00</td>\n",
       "      <td>wando02</td>\n",
       "      <td>28.495441</td>\n",
       "      <td>6.221558</td>\n",
       "    </tr>\n",
       "    <tr>\n",
       "      <th>2</th>\n",
       "      <td>2024-09-14 00:04:00</td>\n",
       "      <td>wando02</td>\n",
       "      <td>28.507576</td>\n",
       "      <td>6.231768</td>\n",
       "    </tr>\n",
       "    <tr>\n",
       "      <th>3</th>\n",
       "      <td>2024-09-14 00:06:00</td>\n",
       "      <td>wando02</td>\n",
       "      <td>28.525808</td>\n",
       "      <td>6.254777</td>\n",
       "    </tr>\n",
       "    <tr>\n",
       "      <th>4</th>\n",
       "      <td>2024-09-14 00:08:00</td>\n",
       "      <td>wando02</td>\n",
       "      <td>28.530111</td>\n",
       "      <td>6.261836</td>\n",
       "    </tr>\n",
       "    <tr>\n",
       "      <th>5</th>\n",
       "      <td>2024-09-14 00:10:00</td>\n",
       "      <td>wando02</td>\n",
       "      <td>28.540363</td>\n",
       "      <td>6.219744</td>\n",
       "    </tr>\n",
       "    <tr>\n",
       "      <th>...</th>\n",
       "      <td>...</td>\n",
       "      <td>...</td>\n",
       "      <td>...</td>\n",
       "      <td>...</td>\n",
       "    </tr>\n",
       "    <tr>\n",
       "      <th>17275</th>\n",
       "      <td>2024-10-07 23:50:00</td>\n",
       "      <td>wando02</td>\n",
       "      <td>23.244688</td>\n",
       "      <td>6.588605</td>\n",
       "    </tr>\n",
       "    <tr>\n",
       "      <th>17276</th>\n",
       "      <td>2024-10-07 23:52:00</td>\n",
       "      <td>wando02</td>\n",
       "      <td>23.247139</td>\n",
       "      <td>6.576092</td>\n",
       "    </tr>\n",
       "    <tr>\n",
       "      <th>17277</th>\n",
       "      <td>2024-10-07 23:54:00</td>\n",
       "      <td>wando02</td>\n",
       "      <td>23.250546</td>\n",
       "      <td>6.550016</td>\n",
       "    </tr>\n",
       "    <tr>\n",
       "      <th>17278</th>\n",
       "      <td>2024-10-07 23:56:00</td>\n",
       "      <td>wando02</td>\n",
       "      <td>23.249739</td>\n",
       "      <td>6.571185</td>\n",
       "    </tr>\n",
       "    <tr>\n",
       "      <th>17279</th>\n",
       "      <td>2024-10-07 23:58:00</td>\n",
       "      <td>wando02</td>\n",
       "      <td>23.248663</td>\n",
       "      <td>6.566180</td>\n",
       "    </tr>\n",
       "  </tbody>\n",
       "</table>\n",
       "<p>17279 rows × 4 columns</p>\n",
       "</div>"
      ],
      "text/plain": [
       "                date_time device_id  temperature  oxygen_ppm\n",
       "1     2024-09-14 00:02:00   wando02    28.495441    6.221558\n",
       "2     2024-09-14 00:04:00   wando02    28.507576    6.231768\n",
       "3     2024-09-14 00:06:00   wando02    28.525808    6.254777\n",
       "4     2024-09-14 00:08:00   wando02    28.530111    6.261836\n",
       "5     2024-09-14 00:10:00   wando02    28.540363    6.219744\n",
       "...                   ...       ...          ...         ...\n",
       "17275 2024-10-07 23:50:00   wando02    23.244688    6.588605\n",
       "17276 2024-10-07 23:52:00   wando02    23.247139    6.576092\n",
       "17277 2024-10-07 23:54:00   wando02    23.250546    6.550016\n",
       "17278 2024-10-07 23:56:00   wando02    23.249739    6.571185\n",
       "17279 2024-10-07 23:58:00   wando02    23.248663    6.566180\n",
       "\n",
       "[17279 rows x 4 columns]"
      ]
     },
     "execution_count": 238,
     "metadata": {},
     "output_type": "execute_result"
    }
   ],
   "source": [
    "normal_df2"
   ]
  },
  {
   "cell_type": "markdown",
   "metadata": {
    "id": "I-O5cU6xI9oW"
   },
   "source": [
    "# 학습용 데이터 구축"
   ]
  },
  {
   "cell_type": "code",
   "execution_count": 239,
   "metadata": {
    "id": "JMPyB1EGKkRF"
   },
   "outputs": [],
   "source": [
    "import torch\n",
    "from torch.utils.data import Dataset, DataLoader\n",
    "import numpy as np\n",
    "\n",
    "# Parameters\n",
    "sequence_length = 720  # 1 day sequences (720 time steps of 2 minutes)\n",
    "features = ['oxygen_ppm']\n",
    "\n",
    "# Function to create sequences from the data\n",
    "def create_sequences(df, label):\n",
    "    df = df.sort_values('date_time').reset_index(drop=True)\n",
    "    data = df[features].values\n",
    "    sequences = []\n",
    "    labels = []\n",
    "    num_sequences = len(data) - sequence_length + 1\n",
    "    for i in range(num_sequences):\n",
    "        seq = data[i:i+sequence_length]\n",
    "        sequences.append(seq)\n",
    "        labels.append(label)\n",
    "    return sequences, labels"
   ]
  },
  {
   "cell_type": "code",
   "execution_count": 240,
   "metadata": {
    "id": "-mmymw77KmAV"
   },
   "outputs": [],
   "source": [
    "# Create sequences for normal data (label=0)\n",
    "normal_sequences, normal_labels = create_sequences(normal_df2, label=0)\n",
    "\n",
    "# Create sequences for abnormal data (label=1)\n",
    "abnormal_sequences, abnormal_labels = create_sequences(abnormal_df, label=1)"
   ]
  },
  {
   "cell_type": "code",
   "execution_count": 241,
   "metadata": {
    "id": "ClX9UMnKKnJU"
   },
   "outputs": [],
   "source": [
    "# Combine normal and abnormal data\n",
    "all_sequences = np.concatenate([normal_sequences, abnormal_sequences], axis=0)\n",
    "all_labels = np.concatenate([normal_labels, abnormal_labels], axis=0)\n",
    "\n",
    "# Shuffle the data\n",
    "indices = np.arange(len(all_sequences))\n",
    "np.random.shuffle(indices)\n",
    "all_sequences = all_sequences[indices]\n",
    "all_labels = all_labels[indices]"
   ]
  },
  {
   "cell_type": "code",
   "execution_count": 242,
   "metadata": {
    "id": "onuSjXd5IHNs"
   },
   "outputs": [],
   "source": [
    "# Define PyTorch Dataset\n",
    "class OxygenDataset(Dataset):\n",
    "    def __init__(self, sequences, labels):\n",
    "        self.sequences = torch.tensor(sequences, dtype=torch.float32)\n",
    "        self.labels = torch.tensor(labels, dtype=torch.long)\n",
    "\n",
    "    def __len__(self):\n",
    "        return len(self.sequences)\n",
    "\n",
    "    def __getitem__(self, idx):\n",
    "        return self.sequences[idx], self.labels[idx]\n",
    "\n",
    "# Create the dataset\n",
    "dataset = OxygenDataset(all_sequences, all_labels)\n",
    "\n",
    "# Example usage with DataLoader\n",
    "batch_size = 64\n",
    "dataloader = DataLoader(dataset, batch_size=batch_size, shuffle=False)"
   ]
  },
  {
   "cell_type": "code",
   "execution_count": 243,
   "metadata": {
    "id": "Ca9SO3SoNK75"
   },
   "outputs": [],
   "source": [
    "from torch.utils.data import random_split\n",
    "\n",
    "# Parameters for train/validation/test split\n",
    "train_ratio = 0.7\n",
    "val_ratio = 0.15\n",
    "test_ratio = 0.15\n",
    "\n",
    "# Calculate lengths for each split\n",
    "dataset_size = len(dataset)\n",
    "train_size = int(train_ratio * dataset_size)\n",
    "val_size = int(val_ratio * dataset_size)\n",
    "test_size = dataset_size - train_size - val_size  # Ensures no leftover samples\n",
    "\n",
    "# Split the dataset\n",
    "train_dataset, val_dataset, test_dataset = random_split(dataset, [train_size, val_size, test_size])\n",
    "\n",
    "# Create DataLoaders for each split\n",
    "train_dataloader = DataLoader(train_dataset, batch_size=batch_size, shuffle=True)\n",
    "val_dataloader = DataLoader(val_dataset, batch_size=batch_size, shuffle=False)\n",
    "test_dataloader = DataLoader(test_dataset, batch_size=batch_size, shuffle=False)\n",
    "\n",
    "# Example usage with train DataLoader\n",
    "for batch_sequences, batch_labels in train_dataloader:\n",
    "    # batch_sequences shape: [batch_size, sequence_length, num_features]\n",
    "    # batch_labels shape: [batch_size]\n",
    "    # Here you would pass batch_sequences to your GRU model for training\n",
    "    pass  # Replace with your training code"
   ]
  },
  {
   "cell_type": "code",
   "execution_count": 244,
   "metadata": {
    "colab": {
     "base_uri": "https://localhost:8080/"
    },
    "id": "VFfueAJnNjeh",
    "outputId": "eef9a2c4-36f0-4343-bc19-af3bb0fe813f"
   },
   "outputs": [
    {
     "name": "stdout",
     "output_type": "stream",
     "text": [
      "13104 2808 2808\n"
     ]
    }
   ],
   "source": [
    "print(len(train_dataset), len(val_dataset), len(test_dataset))"
   ]
  },
  {
   "cell_type": "markdown",
   "metadata": {
    "id": "CIRNIeLCN28a"
   },
   "source": [
    "# AI 모델 학습"
   ]
  },
  {
   "cell_type": "code",
   "execution_count": 245,
   "metadata": {
    "colab": {
     "base_uri": "https://localhost:8080/"
    },
    "id": "E-dDYon2OUn9",
    "outputId": "e8021a7c-98ea-4f6c-9663-cf14205e0538"
   },
   "outputs": [
    {
     "name": "stdout",
     "output_type": "stream",
     "text": [
      "mkdir: cannot create directory ‘checkpoint’: File exists\n"
     ]
    }
   ],
   "source": [
    "! mkdir checkpoint"
   ]
  },
  {
   "cell_type": "code",
   "execution_count": 246,
   "metadata": {
    "id": "hQD4VvLGS4yO"
   },
   "outputs": [],
   "source": [
    "import torch\n",
    "import torch.nn as nn\n",
    "import torch.optim as optim\n",
    "from torch.utils.data import DataLoader, random_split\n",
    "from tqdm import tqdm\n",
    "import os\n",
    "import matplotlib.pyplot as plt\n",
    "from sklearn.metrics import confusion_matrix, classification_report\n",
    "import seaborn as sns\n",
    "import numpy as np\n",
    "\n",
    "# Define GRU-based model\n",
    "class GRUModel(nn.Module):\n",
    "    def __init__(self, input_size, hidden_size, output_size, num_layers=1):\n",
    "        super(GRUModel, self).__init__()\n",
    "        self.gru = nn.GRU(input_size, hidden_size, num_layers, batch_first=True)\n",
    "        self.fc = nn.Linear(hidden_size, output_size)\n",
    "\n",
    "    def forward(self, x):\n",
    "        out, _ = self.gru(x)  # out: [batch_size, seq_len, hidden_size]\n",
    "        out = self.fc(out[:, -1, :])  # Use the last time step's output\n",
    "        return out\n",
    "\n",
    "# Model parameters\n",
    "input_size = len(features)  # Number of features (e.g., temperature, oxygen_ppm)\n",
    "hidden_size = 32\n",
    "output_size = 2  # Binary classification (normal/abnormal)\n",
    "num_layers = 1\n",
    "epochs = 10\n",
    "learning_rate = 0.001\n",
    "best_val_loss = float('inf')\n",
    "best_model_path = \"checkpoint/best_gru_model.pth\""
   ]
  },
  {
   "cell_type": "code",
   "execution_count": 247,
   "metadata": {
    "colab": {
     "base_uri": "https://localhost:8080/"
    },
    "id": "RDyR-gl2S6NZ",
    "outputId": "3ec3185e-f4ad-4212-fd06-51c8add8bd20"
   },
   "outputs": [
    {
     "name": "stdout",
     "output_type": "stream",
     "text": [
      "Using device: cpu\n"
     ]
    },
    {
     "name": "stderr",
     "output_type": "stream",
     "text": [
      "/home/youngchan/.local/lib/python3.10/site-packages/torch/optim/lr_scheduler.py:62: UserWarning: The verbose parameter is deprecated. Please use get_last_lr() to access the learning rate.\n",
      "  warnings.warn(\n"
     ]
    }
   ],
   "source": [
    "# Check for GPU\n",
    "device = torch.device(\"cuda\" if torch.cuda.is_available() else \"cpu\")\n",
    "print(f\"Using device: {device}\")\n",
    "\n",
    "# Instantiate the model, define loss function and optimizer\n",
    "model = GRUModel(input_size, hidden_size, output_size, num_layers).to(device)\n",
    "criterion = nn.CrossEntropyLoss()\n",
    "optimizer = optim.Adam(model.parameters(), lr=learning_rate)\n",
    "\n",
    "# Learning rate scheduler to reduce learning rate if validation loss does not improve\n",
    "scheduler = optim.lr_scheduler.ReduceLROnPlateau(optimizer, mode='min', factor=0.5, patience=3, verbose=True)\n",
    "\n",
    "# Early stopping parameters\n",
    "early_stop_patience = 5\n",
    "no_improvement_count = 0\n",
    "\n",
    "# Lists to store loss values for plotting\n",
    "train_losses = []\n",
    "val_losses = []"
   ]
  },
  {
   "cell_type": "code",
   "execution_count": 248,
   "metadata": {
    "colab": {
     "base_uri": "https://localhost:8080/"
    },
    "id": "6hHSk5dFPdzb",
    "outputId": "5f7746e0-ad93-435e-f3a0-5200b324f969"
   },
   "outputs": [
    {
     "name": "stderr",
     "output_type": "stream",
     "text": [
      "Epoch [1/10] Training: 100%|██████████████████| 205/205 [01:20<00:00,  2.56it/s]\n"
     ]
    },
    {
     "name": "stdout",
     "output_type": "stream",
     "text": [
      "Epoch [1/10], Loss: 0.3764, Accuracy: 0.8833\n"
     ]
    },
    {
     "name": "stderr",
     "output_type": "stream",
     "text": [
      "Epoch [1/10] Validation: 100%|██████████████████| 44/44 [00:02<00:00, 16.53it/s]\n"
     ]
    },
    {
     "name": "stdout",
     "output_type": "stream",
     "text": [
      "Validation Loss: 0.3529, Validation Accuracy: 0.8871\n",
      "Best model saved with validation loss: 0.3529\n",
      "===============================================================================================\n"
     ]
    },
    {
     "name": "stderr",
     "output_type": "stream",
     "text": [
      "Epoch [2/10] Training: 100%|██████████████████| 205/205 [00:45<00:00,  4.53it/s]\n"
     ]
    },
    {
     "name": "stdout",
     "output_type": "stream",
     "text": [
      "Epoch [2/10], Loss: 0.3597, Accuracy: 0.8833\n"
     ]
    },
    {
     "name": "stderr",
     "output_type": "stream",
     "text": [
      "Epoch [2/10] Validation: 100%|██████████████████| 44/44 [00:02<00:00, 16.15it/s]\n"
     ]
    },
    {
     "name": "stdout",
     "output_type": "stream",
     "text": [
      "Validation Loss: 0.3503, Validation Accuracy: 0.8871\n",
      "Best model saved with validation loss: 0.3503\n",
      "===============================================================================================\n"
     ]
    },
    {
     "name": "stderr",
     "output_type": "stream",
     "text": [
      "Epoch [3/10] Training: 100%|██████████████████| 205/205 [00:40<00:00,  5.05it/s]\n"
     ]
    },
    {
     "name": "stdout",
     "output_type": "stream",
     "text": [
      "Epoch [3/10], Loss: 0.3215, Accuracy: 0.8829\n"
     ]
    },
    {
     "name": "stderr",
     "output_type": "stream",
     "text": [
      "Epoch [3/10] Validation: 100%|██████████████████| 44/44 [00:02<00:00, 16.56it/s]\n"
     ]
    },
    {
     "name": "stdout",
     "output_type": "stream",
     "text": [
      "Validation Loss: 0.2328, Validation Accuracy: 0.8871\n",
      "Best model saved with validation loss: 0.2328\n",
      "===============================================================================================\n"
     ]
    },
    {
     "name": "stderr",
     "output_type": "stream",
     "text": [
      "Epoch [4/10] Training: 100%|██████████████████| 205/205 [00:39<00:00,  5.15it/s]\n"
     ]
    },
    {
     "name": "stdout",
     "output_type": "stream",
     "text": [
      "Epoch [4/10], Loss: 0.2485, Accuracy: 0.8795\n"
     ]
    },
    {
     "name": "stderr",
     "output_type": "stream",
     "text": [
      "Epoch [4/10] Validation: 100%|██████████████████| 44/44 [00:02<00:00, 18.76it/s]\n"
     ]
    },
    {
     "name": "stdout",
     "output_type": "stream",
     "text": [
      "Validation Loss: 0.2168, Validation Accuracy: 0.8871\n",
      "Best model saved with validation loss: 0.2168\n",
      "===============================================================================================\n"
     ]
    },
    {
     "name": "stderr",
     "output_type": "stream",
     "text": [
      "Epoch [5/10] Training: 100%|██████████████████| 205/205 [00:45<00:00,  4.50it/s]\n"
     ]
    },
    {
     "name": "stdout",
     "output_type": "stream",
     "text": [
      "Epoch [5/10], Loss: 0.2118, Accuracy: 0.8842\n"
     ]
    },
    {
     "name": "stderr",
     "output_type": "stream",
     "text": [
      "Epoch [5/10] Validation: 100%|██████████████████| 44/44 [00:01<00:00, 32.21it/s]\n"
     ]
    },
    {
     "name": "stdout",
     "output_type": "stream",
     "text": [
      "Validation Loss: 0.1911, Validation Accuracy: 0.9110\n",
      "Best model saved with validation loss: 0.1911\n",
      "===============================================================================================\n"
     ]
    },
    {
     "name": "stderr",
     "output_type": "stream",
     "text": [
      "Epoch [6/10] Training: 100%|██████████████████| 205/205 [00:46<00:00,  4.37it/s]\n"
     ]
    },
    {
     "name": "stdout",
     "output_type": "stream",
     "text": [
      "Epoch [6/10], Loss: 0.2002, Accuracy: 0.8997\n"
     ]
    },
    {
     "name": "stderr",
     "output_type": "stream",
     "text": [
      "Epoch [6/10] Validation: 100%|██████████████████| 44/44 [00:01<00:00, 28.82it/s]\n"
     ]
    },
    {
     "name": "stdout",
     "output_type": "stream",
     "text": [
      "Validation Loss: 0.1725, Validation Accuracy: 0.9320\n",
      "Best model saved with validation loss: 0.1725\n",
      "===============================================================================================\n"
     ]
    },
    {
     "name": "stderr",
     "output_type": "stream",
     "text": [
      "Epoch [7/10] Training: 100%|██████████████████| 205/205 [00:44<00:00,  4.61it/s]\n"
     ]
    },
    {
     "name": "stdout",
     "output_type": "stream",
     "text": [
      "Epoch [7/10], Loss: 0.3038, Accuracy: 0.8698\n"
     ]
    },
    {
     "name": "stderr",
     "output_type": "stream",
     "text": [
      "Epoch [7/10] Validation: 100%|██████████████████| 44/44 [00:01<00:00, 34.72it/s]\n"
     ]
    },
    {
     "name": "stdout",
     "output_type": "stream",
     "text": [
      "Validation Loss: 0.3470, Validation Accuracy: 0.8871\n"
     ]
    },
    {
     "name": "stderr",
     "output_type": "stream",
     "text": [
      "Epoch [8/10] Training: 100%|██████████████████| 205/205 [00:48<00:00,  4.20it/s]\n"
     ]
    },
    {
     "name": "stdout",
     "output_type": "stream",
     "text": [
      "Epoch [8/10], Loss: 0.3273, Accuracy: 0.8833\n"
     ]
    },
    {
     "name": "stderr",
     "output_type": "stream",
     "text": [
      "Epoch [8/10] Validation: 100%|██████████████████| 44/44 [00:01<00:00, 33.65it/s]\n"
     ]
    },
    {
     "name": "stdout",
     "output_type": "stream",
     "text": [
      "Validation Loss: 0.2736, Validation Accuracy: 0.8871\n"
     ]
    },
    {
     "name": "stderr",
     "output_type": "stream",
     "text": [
      "Epoch [9/10] Training: 100%|██████████████████| 205/205 [00:48<00:00,  4.22it/s]\n"
     ]
    },
    {
     "name": "stdout",
     "output_type": "stream",
     "text": [
      "Epoch [9/10], Loss: 0.2511, Accuracy: 0.8774\n"
     ]
    },
    {
     "name": "stderr",
     "output_type": "stream",
     "text": [
      "Epoch [9/10] Validation: 100%|██████████████████| 44/44 [00:02<00:00, 16.44it/s]\n"
     ]
    },
    {
     "name": "stdout",
     "output_type": "stream",
     "text": [
      "Validation Loss: 0.2131, Validation Accuracy: 0.8985\n"
     ]
    },
    {
     "name": "stderr",
     "output_type": "stream",
     "text": [
      "Epoch [10/10] Training: 100%|█████████████████| 205/205 [00:46<00:00,  4.37it/s]\n"
     ]
    },
    {
     "name": "stdout",
     "output_type": "stream",
     "text": [
      "Epoch [10/10], Loss: 0.2956, Accuracy: 0.8683\n"
     ]
    },
    {
     "name": "stderr",
     "output_type": "stream",
     "text": [
      "Epoch [10/10] Validation: 100%|█████████████████| 44/44 [00:02<00:00, 16.70it/s]"
     ]
    },
    {
     "name": "stdout",
     "output_type": "stream",
     "text": [
      "Validation Loss: 0.3402, Validation Accuracy: 0.8871\n"
     ]
    },
    {
     "name": "stderr",
     "output_type": "stream",
     "text": [
      "\n"
     ]
    }
   ],
   "source": [
    "# Training loop\n",
    "for epoch in range(epochs):\n",
    "    model.train()\n",
    "    running_loss = 0.0\n",
    "    correct_predictions = 0\n",
    "    total_predictions = 0\n",
    "\n",
    "    # Add tqdm for training progress visualization\n",
    "    train_loader_tqdm = tqdm(train_dataloader, desc=f\"Epoch [{epoch+1}/{epochs}] Training\")\n",
    "    for batch_sequences, batch_labels in train_loader_tqdm:\n",
    "        batch_sequences, batch_labels = batch_sequences.to(device), batch_labels.to(device)\n",
    "\n",
    "        # Zero the gradients\n",
    "        optimizer.zero_grad()\n",
    "\n",
    "        # Forward pass\n",
    "        outputs = model(batch_sequences)\n",
    "        loss = criterion(outputs, batch_labels)\n",
    "\n",
    "        # Backward pass and optimize\n",
    "        loss.backward()\n",
    "        optimizer.step()\n",
    "\n",
    "        # Track loss and accuracy\n",
    "        running_loss += loss.item()\n",
    "        _, predicted = torch.max(outputs, 1)\n",
    "        correct_predictions += (predicted == batch_labels).sum().item()\n",
    "        total_predictions += batch_labels.size(0)\n",
    "\n",
    "    # Calculate training loss and accuracy\n",
    "    epoch_loss = running_loss / len(train_dataloader)\n",
    "    epoch_accuracy = correct_predictions / total_predictions\n",
    "    train_losses.append(epoch_loss)\n",
    "    print(f\"Epoch [{epoch+1}/{epochs}], Loss: {epoch_loss:.4f}, Accuracy: {epoch_accuracy:.4f}\")\n",
    "\n",
    "    # Validation loop\n",
    "    model.eval()\n",
    "    val_loss = 0.0\n",
    "    correct_predictions = 0\n",
    "    total_predictions = 0\n",
    "\n",
    "    with torch.no_grad():\n",
    "        val_loader_tqdm = tqdm(val_dataloader, desc=f\"Epoch [{epoch+1}/{epochs}] Validation\")\n",
    "        for batch_sequences, batch_labels in val_loader_tqdm:\n",
    "            batch_sequences, batch_labels = batch_sequences.to(device), batch_labels.to(device)\n",
    "            outputs = model(batch_sequences)\n",
    "            loss = criterion(outputs, batch_labels)\n",
    "            val_loss += loss.item()\n",
    "            _, predicted = torch.max(outputs, 1)\n",
    "            correct_predictions += (predicted == batch_labels).sum().item()\n",
    "            total_predictions += batch_labels.size(0)\n",
    "\n",
    "    # Calculate validation loss and accuracy\n",
    "    val_epoch_loss = val_loss / len(val_dataloader)\n",
    "    val_epoch_accuracy = correct_predictions / total_predictions\n",
    "    val_losses.append(val_epoch_loss)\n",
    "    print(f\"Validation Loss: {val_epoch_loss:.4f}, Validation Accuracy: {val_epoch_accuracy:.4f}\")\n",
    "\n",
    "    # Save the best model based on validation loss\n",
    "    if val_epoch_loss < best_val_loss:\n",
    "        best_val_loss = val_epoch_loss\n",
    "        torch.save(model.state_dict(), best_model_path)\n",
    "        print(f\"Best model saved with validation loss: {best_val_loss:.4f}\")\n",
    "        print(\"===============================================================================================\")\n",
    "        no_improvement_count = 0  # Reset early stopping counter\n",
    "    else:\n",
    "        no_improvement_count += 1\n",
    "\n",
    "    # Reduce learning rate if validation loss does not improve\n",
    "    scheduler.step(val_epoch_loss)\n",
    "\n",
    "    # Early stopping check\n",
    "    if no_improvement_count >= early_stop_patience:\n",
    "        print(f\"Early stopping triggered after {epoch+1} epochs.\")\n",
    "        break"
   ]
  },
  {
   "cell_type": "code",
   "execution_count": 249,
   "metadata": {
    "colab": {
     "base_uri": "https://localhost:8080/",
     "height": 487
    },
    "id": "Ks_uiUboTIB3",
    "outputId": "b779c26f-13df-4e73-da7f-040f7f6b760d"
   },
   "outputs": [
    {
     "data": {
      "image/png": "[encoded data removed]",
      "text/plain": [
       "<Figure size 1000x500 with 1 Axes>"
      ]
     },
     "metadata": {},
     "output_type": "display_data"
    }
   ],
   "source": [
    "# Plot training and validation loss\n",
    "plt.figure(figsize=(10, 5))\n",
    "plt.plot(range(1, len(train_losses) + 1), train_losses, label='Train Loss')\n",
    "plt.plot(range(1, len(val_losses) + 1), val_losses, label='Validation Loss')\n",
    "plt.xlabel('Epochs')\n",
    "plt.ylabel('Loss')\n",
    "plt.title('Training and Validation Loss Over Epochs')\n",
    "plt.legend()\n",
    "plt.show()"
   ]
  },
  {
   "cell_type": "markdown",
   "metadata": {
    "id": "s_Dem4SkPbTd"
   },
   "source": [
    "# 검증"
   ]
  },
  {
   "cell_type": "code",
   "execution_count": 196,
   "metadata": {
    "id": "G1M2j0_vPcXs"
   },
   "outputs": [],
   "source": [
    "from sklearn.metrics import confusion_matrix, classification_report\n",
    "import seaborn as sns"
   ]
  },
  {
   "cell_type": "code",
   "execution_count": 197,
   "metadata": {
    "colab": {
     "base_uri": "https://localhost:8080/"
    },
    "id": "8gufR0D-PtJs",
    "outputId": "6ff04407-0cc8-45a1-a0d1-f62a3dd9e038"
   },
   "outputs": [
    {
     "name": "stdout",
     "output_type": "stream",
     "text": [
      "Loaded the best model for testing.\n"
     ]
    },
    {
     "name": "stderr",
     "output_type": "stream",
     "text": [
      "/tmp/ipykernel_130508/1894909068.py:11: FutureWarning: You are using `torch.load` with `weights_only=False` (the current default value), which uses the default pickle module implicitly. It is possible to construct malicious pickle data which will execute arbitrary code during unpickling (See https://github.com/pytorch/pytorch/blob/main/SECURITY.md#untrusted-models for more details). In a future release, the default value for `weights_only` will be flipped to `True`. This limits the functions that could be executed during unpickling. Arbitrary objects will no longer be allowed to be loaded via this mode unless they are explicitly allowlisted by the user via `torch.serialization.add_safe_globals`. We recommend you start setting `weights_only=True` for any use case where you don't have full control of the loaded file. Please open an issue on GitHub for any issues related to this experimental feature.\n",
      "  model.load_state_dict(torch.load(best_model_path))\n"
     ]
    }
   ],
   "source": [
    "# Testing loop\n",
    "all_labels = []\n",
    "all_predictions = []\n",
    "test_loss = 0.0\n",
    "correct_predictions = 0\n",
    "total_predictions = 0\n",
    "model.eval()\n",
    "\n",
    "# Load the best model for testing\n",
    "if os.path.exists(best_model_path):\n",
    "    model.load_state_dict(torch.load(best_model_path))\n",
    "    print(\"Loaded the best model for testing.\")"
   ]
  },
  {
   "cell_type": "code",
   "execution_count": 198,
   "metadata": {
    "colab": {
     "base_uri": "https://localhost:8080/"
    },
    "id": "YqfH1nV1P8pR",
    "outputId": "782491db-3382-4385-dfc3-3e9b7ea1ea28"
   },
   "outputs": [
    {
     "name": "stderr",
     "output_type": "stream",
     "text": [
      "Testing: 100%|██████████████████████████████████| 41/41 [00:01<00:00, 30.70it/s]"
     ]
    },
    {
     "name": "stdout",
     "output_type": "stream",
     "text": [
      "Test Loss: 0.1510, Test Accuracy: 0.9634\n"
     ]
    },
    {
     "name": "stderr",
     "output_type": "stream",
     "text": [
      "\n"
     ]
    }
   ],
   "source": [
    "with torch.no_grad():\n",
    "    test_loader_tqdm = tqdm(test_dataloader, desc=\"Testing\")\n",
    "    for batch_sequences, batch_labels in test_loader_tqdm:\n",
    "        batch_sequences, batch_labels = batch_sequences.to(device), batch_labels.to(device)\n",
    "        outputs = model(batch_sequences)\n",
    "        loss = criterion(outputs, batch_labels)\n",
    "        test_loss += loss.item()\n",
    "        _, predicted = torch.max(outputs, 1)\n",
    "        correct_predictions += (predicted == batch_labels).sum().item()\n",
    "        total_predictions += batch_labels.size(0)\n",
    "        all_labels.extend(batch_labels.cpu().numpy())\n",
    "        all_predictions.extend(predicted.cpu().numpy())\n",
    "\n",
    "# Calculate test loss and accuracy\n",
    "test_epoch_loss = test_loss / len(test_dataloader)\n",
    "test_epoch_accuracy = correct_predictions / total_predictions\n",
    "print(f\"Test Loss: {test_epoch_loss:.4f}, Test Accuracy: {test_epoch_accuracy:.4f}\")"
   ]
  },
  {
   "cell_type": "code",
   "execution_count": 199,
   "metadata": {
    "colab": {
     "base_uri": "https://localhost:8080/",
     "height": 641
    },
    "id": "AqlKgXvNP9uk",
    "outputId": "73043903-a7b7-42ad-812c-355352879bfc"
   },
   "outputs": [
    {
     "data": {
      "image/png": "[encoded data removed]",
      "text/plain": [
       "<Figure size 1000x700 with 2 Axes>"
      ]
     },
     "metadata": {},
     "output_type": "display_data"
    }
   ],
   "source": [
    "# Confusion Matrix\n",
    "conf_matrix = confusion_matrix(all_labels, all_predictions)\n",
    "plt.figure(figsize=(10, 7))\n",
    "sns.heatmap(conf_matrix, annot=True, fmt='d', cmap='Blues', xticklabels=['Normal', 'Abnormal'], yticklabels=['Normal', 'Abnormal'])\n",
    "plt.xlabel('Predicted')\n",
    "plt.ylabel('Actual')\n",
    "plt.title('Confusion Matrix')\n",
    "plt.show()"
   ]
  },
  {
   "cell_type": "code",
   "execution_count": 200,
   "metadata": {
    "colab": {
     "base_uri": "https://localhost:8080/"
    },
    "id": "tX1URAq5Oq1s",
    "outputId": "ab118474-a7c0-4599-86c0-16d437cd5df4"
   },
   "outputs": [
    {
     "name": "stdout",
     "output_type": "stream",
     "text": [
      "Classification Report:\n",
      "               precision    recall  f1-score   support\n",
      "\n",
      "      Normal       0.96      1.00      0.98      2500\n",
      "    Abnormal       0.00      0.00      0.00        95\n",
      "\n",
      "    accuracy                           0.96      2595\n",
      "   macro avg       0.48      0.50      0.49      2595\n",
      "weighted avg       0.93      0.96      0.95      2595\n",
      "\n"
     ]
    },
    {
     "name": "stderr",
     "output_type": "stream",
     "text": [
      "/home/youngchan/.local/lib/python3.10/site-packages/sklearn/metrics/_classification.py:1531: UndefinedMetricWarning: Precision is ill-defined and being set to 0.0 in labels with no predicted samples. Use `zero_division` parameter to control this behavior.\n",
      "  _warn_prf(average, modifier, f\"{metric.capitalize()} is\", len(result))\n",
      "/home/youngchan/.local/lib/python3.10/site-packages/sklearn/metrics/_classification.py:1531: UndefinedMetricWarning: Precision is ill-defined and being set to 0.0 in labels with no predicted samples. Use `zero_division` parameter to control this behavior.\n",
      "  _warn_prf(average, modifier, f\"{metric.capitalize()} is\", len(result))\n",
      "/home/youngchan/.local/lib/python3.10/site-packages/sklearn/metrics/_classification.py:1531: UndefinedMetricWarning: Precision is ill-defined and being set to 0.0 in labels with no predicted samples. Use `zero_division` parameter to control this behavior.\n",
      "  _warn_prf(average, modifier, f\"{metric.capitalize()} is\", len(result))\n"
     ]
    }
   ],
   "source": [
    "# Classification Report\n",
    "class_report = classification_report(all_labels, all_predictions, target_names=['Normal', 'Abnormal'])\n",
    "print(\"Classification Report:\\n\", class_report)"
   ]
  },
  {
   "cell_type": "code",
   "execution_count": null,
   "metadata": {
    "id": "aw1w1HYAPrFQ"
   },
   "outputs": [],
   "source": []
  },
  {
   "cell_type": "code",
   "execution_count": null,
   "metadata": {},
   "outputs": [],
   "source": []
  }
 ],
 "metadata": {
  "accelerator": "GPU",
  "colab": {
   "gpuType": "T4",
   "provenance": []
  },
  "kernelspec": {
   "display_name": "Python 3 (ipykernel)",
   "language": "python",
   "name": "python3"
  },
  "language_info": {
   "codemirror_mode": {
    "name": "ipython",
    "version": 3
   },
   "file_extension": ".py",
   "mimetype": "text/x-python",
   "name": "python",
   "nbconvert_exporter": "python",
   "pygments_lexer": "ipython3",
   "version": "3.10.12"
  }
 },
 "nbformat": 4,
 "nbformat_minor": 4
}
